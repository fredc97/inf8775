{
 "cells": [
  {
   "cell_type": "code",
   "execution_count": 278,
   "metadata": {
    "scrolled": true
   },
   "outputs": [
    {
     "data": {
      "text/html": [
       "<div>\n",
       "<style scoped>\n",
       "    .dataframe tbody tr th:only-of-type {\n",
       "        vertical-align: middle;\n",
       "    }\n",
       "\n",
       "    .dataframe tbody tr th {\n",
       "        vertical-align: top;\n",
       "    }\n",
       "\n",
       "    .dataframe thead th {\n",
       "        text-align: right;\n",
       "    }\n",
       "</style>\n",
       "<table border=\"1\" class=\"dataframe\">\n",
       "  <thead>\n",
       "    <tr style=\"text-align: right;\">\n",
       "      <th></th>\n",
       "      <th>algo</th>\n",
       "      <th>taille</th>\n",
       "      <th>temps</th>\n",
       "      <th>profit</th>\n",
       "    </tr>\n",
       "  </thead>\n",
       "  <tbody>\n",
       "    <tr>\n",
       "      <td>0</td>\n",
       "      <td>backtrack</td>\n",
       "      <td>10.0</td>\n",
       "      <td>0.014054</td>\n",
       "      <td>35.9</td>\n",
       "    </tr>\n",
       "    <tr>\n",
       "      <td>1</td>\n",
       "      <td>backtrack</td>\n",
       "      <td>100.0</td>\n",
       "      <td>65561.360000</td>\n",
       "      <td>393.2</td>\n",
       "    </tr>\n",
       "    <tr>\n",
       "      <td>2</td>\n",
       "      <td>dynamique</td>\n",
       "      <td>10.0</td>\n",
       "      <td>0.007573</td>\n",
       "      <td>35.9</td>\n",
       "    </tr>\n",
       "    <tr>\n",
       "      <td>3</td>\n",
       "      <td>dynamique</td>\n",
       "      <td>100.0</td>\n",
       "      <td>0.050821</td>\n",
       "      <td>393.2</td>\n",
       "    </tr>\n",
       "    <tr>\n",
       "      <td>4</td>\n",
       "      <td>dynamique</td>\n",
       "      <td>400.0</td>\n",
       "      <td>0.563754</td>\n",
       "      <td>1588.7</td>\n",
       "    </tr>\n",
       "    <tr>\n",
       "      <td>5</td>\n",
       "      <td>dynamique</td>\n",
       "      <td>1000.0</td>\n",
       "      <td>3.026177</td>\n",
       "      <td>3986.7</td>\n",
       "    </tr>\n",
       "    <tr>\n",
       "      <td>6</td>\n",
       "      <td>dynamique</td>\n",
       "      <td>4000.0</td>\n",
       "      <td>25.622400</td>\n",
       "      <td>15975.6</td>\n",
       "    </tr>\n",
       "    <tr>\n",
       "      <td>7</td>\n",
       "      <td>dynamique</td>\n",
       "      <td>10000.0</td>\n",
       "      <td>156.653300</td>\n",
       "      <td>39974.7</td>\n",
       "    </tr>\n",
       "    <tr>\n",
       "      <td>8</td>\n",
       "      <td>dynamique</td>\n",
       "      <td>20000.0</td>\n",
       "      <td>623.431800</td>\n",
       "      <td>79959.0</td>\n",
       "    </tr>\n",
       "    <tr>\n",
       "      <td>9</td>\n",
       "      <td>dynamique</td>\n",
       "      <td>30000.0</td>\n",
       "      <td>1393.470000</td>\n",
       "      <td>119959.0</td>\n",
       "    </tr>\n",
       "    <tr>\n",
       "      <td>10</td>\n",
       "      <td>dynamique</td>\n",
       "      <td>40000.0</td>\n",
       "      <td>2475.896000</td>\n",
       "      <td>159960.3</td>\n",
       "    </tr>\n",
       "    <tr>\n",
       "      <td>11</td>\n",
       "      <td>glouton</td>\n",
       "      <td>10.0</td>\n",
       "      <td>0.012351</td>\n",
       "      <td>34.0</td>\n",
       "    </tr>\n",
       "    <tr>\n",
       "      <td>12</td>\n",
       "      <td>glouton</td>\n",
       "      <td>100.0</td>\n",
       "      <td>0.050586</td>\n",
       "      <td>366.3</td>\n",
       "    </tr>\n",
       "    <tr>\n",
       "      <td>13</td>\n",
       "      <td>glouton</td>\n",
       "      <td>400.0</td>\n",
       "      <td>0.230905</td>\n",
       "      <td>1517.6</td>\n",
       "    </tr>\n",
       "    <tr>\n",
       "      <td>14</td>\n",
       "      <td>glouton</td>\n",
       "      <td>1000.0</td>\n",
       "      <td>0.579196</td>\n",
       "      <td>3719.4</td>\n",
       "    </tr>\n",
       "    <tr>\n",
       "      <td>15</td>\n",
       "      <td>glouton</td>\n",
       "      <td>4000.0</td>\n",
       "      <td>1.777503</td>\n",
       "      <td>14815.0</td>\n",
       "    </tr>\n",
       "    <tr>\n",
       "      <td>16</td>\n",
       "      <td>glouton</td>\n",
       "      <td>10000.0</td>\n",
       "      <td>6.294328</td>\n",
       "      <td>36655.0</td>\n",
       "    </tr>\n",
       "    <tr>\n",
       "      <td>17</td>\n",
       "      <td>glouton</td>\n",
       "      <td>20000.0</td>\n",
       "      <td>10.415239</td>\n",
       "      <td>75685.8</td>\n",
       "    </tr>\n",
       "    <tr>\n",
       "      <td>18</td>\n",
       "      <td>glouton</td>\n",
       "      <td>30000.0</td>\n",
       "      <td>12.260860</td>\n",
       "      <td>111058.2</td>\n",
       "    </tr>\n",
       "    <tr>\n",
       "      <td>19</td>\n",
       "      <td>glouton</td>\n",
       "      <td>40000.0</td>\n",
       "      <td>14.984970</td>\n",
       "      <td>152019.2</td>\n",
       "    </tr>\n",
       "  </tbody>\n",
       "</table>\n",
       "</div>"
      ],
      "text/plain": [
       "         algo   taille         temps    profit\n",
       "0   backtrack     10.0      0.014054      35.9\n",
       "1   backtrack    100.0  65561.360000     393.2\n",
       "2   dynamique     10.0      0.007573      35.9\n",
       "3   dynamique    100.0      0.050821     393.2\n",
       "4   dynamique    400.0      0.563754    1588.7\n",
       "5   dynamique   1000.0      3.026177    3986.7\n",
       "6   dynamique   4000.0     25.622400   15975.6\n",
       "7   dynamique  10000.0    156.653300   39974.7\n",
       "8   dynamique  20000.0    623.431800   79959.0\n",
       "9   dynamique  30000.0   1393.470000  119959.0\n",
       "10  dynamique  40000.0   2475.896000  159960.3\n",
       "11    glouton     10.0      0.012351      34.0\n",
       "12    glouton    100.0      0.050586     366.3\n",
       "13    glouton    400.0      0.230905    1517.6\n",
       "14    glouton   1000.0      0.579196    3719.4\n",
       "15    glouton   4000.0      1.777503   14815.0\n",
       "16    glouton  10000.0      6.294328   36655.0\n",
       "17    glouton  20000.0     10.415239   75685.8\n",
       "18    glouton  30000.0     12.260860  111058.2\n",
       "19    glouton  40000.0     14.984970  152019.2"
      ]
     },
     "execution_count": 278,
     "metadata": {},
     "output_type": "execute_result"
    }
   ],
   "source": [
    "import matplotlib.pyplot as plt\n",
    "import pandas as pd\n",
    "import seaborn as sns\n",
    "import sys\n",
    "\n",
    "df = pd.read_csv(\"results.csv\").groupby(['algo','taille']).mean().reset_index()\n",
    "df"
   ]
  },
  {
   "cell_type": "code",
   "execution_count": 274,
   "metadata": {},
   "outputs": [
    {
     "data": {
      "image/png": "[encoded data removed]",
      "text/plain": [
       "<Figure size 720x432 with 1 Axes>"
      ]
     },
     "metadata": {
      "needs_background": "light"
     },
     "output_type": "display_data"
    }
   ],
   "source": [
    "df = pd.read_csv(\"results.csv\").groupby(['algo','taille']).mean().reset_index()\n",
    "dynamique = df.loc[df[\"algo\"] == \"dynamique\"]\n",
    "t = dynamique[\"temps\"]/(dynamique[\"taille\"]*dynamique[\"taille\"])\n",
    "fx= (dynamique[\"taille\"]*dynamique[\"taille\"])\n",
    "m,b = numpy.polyfit(fx, dynamique[\"temps\"], 1)\n",
    "\n",
    "x = [10,1000,4000,10000,20000,30000,40000] \n",
    "# create an index for each tick position\n",
    "xi = list(range(len(x)))\n",
    "\n",
    "\n",
    "plt.figure(figsize=(10,6))\n",
    "plt.gca().set_ylim(bottom=0)\n",
    "plt.gca().set_ylim(top= 0.000025)\n",
    "plt.xticks(x)\n",
    "plt.xlabel(\"Taille\")\n",
    "plt.ylabel(\"(x, y/O(x^2)\")\n",
    "plt.title(\"Test du rapport pour l'algorithme de programmation dynamique\")\n",
    "\n",
    "#plt.scatter(dynamique[\"taille\"], dynamique[\"temps\"])\n",
    "plt.plot(dynamique[\"taille\"], dynamique[\"temps\"]/(dynamique[\"taille\"]*dynamique[\"taille\"]))\n",
    "plt.savefig(\"dyn-rapport\")"
   ]
  },
  {
   "cell_type": "code",
   "execution_count": 275,
   "metadata": {},
   "outputs": [
    {
     "data": {
      "text/plain": [
       "1.547193343532377e-06"
      ]
     },
     "execution_count": 275,
     "metadata": {},
     "output_type": "execute_result"
    }
   ],
   "source": [
    "m"
   ]
  },
  {
   "cell_type": "code",
   "execution_count": 276,
   "metadata": {},
   "outputs": [
    {
     "data": {
      "text/plain": [
       "1.175147775009506"
      ]
     },
     "execution_count": 276,
     "metadata": {},
     "output_type": "execute_result"
    }
   ],
   "source": [
    "b"
   ]
  },
  {
   "cell_type": "code",
   "execution_count": 277,
   "metadata": {},
   "outputs": [
    {
     "data": {
      "image/png": "[encoded data removed]",
      "text/plain": [
       "<Figure size 720x432 with 1 Axes>"
      ]
     },
     "metadata": {
      "needs_background": "light"
     },
     "output_type": "display_data"
    }
   ],
   "source": [
    "import numpy\n",
    "df = pd.read_csv(\"results.csv\").groupby(['algo','taille']).mean().reset_index()\n",
    "glouton = df.loc[df[\"algo\"] == \"glouton\"]\n",
    "\n",
    "plt.figure(figsize=(10,6))\n",
    "t = glouton[\"taille\"] * (numpy.log(glouton[\"taille\"]))\n",
    "\n",
    "plt.gca().set_ylim(bottom=0)\n",
    "plt.gca().set_ylim(top=0.0001)\n",
    "m,b = numpy.polyfit(t, glouton[\"temps\"], 1)\n",
    "plt.xlabel(\"Taille\")\n",
    "plt.ylabel(\"(x, y/O(xlogx))\")\n",
    "plt.title(\"Test du rapport pour l'algorithme glouton\")\n",
    "\n",
    "#plt.scatter(dynamique[\"taille\"], dynamique[\"temps\"])\n",
    "plt.plot(glouton[\"taille\"], glouton[\"temps\"]/t)\n",
    "plt.savefig(\"glouton-rapport\")"
   ]
  },
  {
   "cell_type": "code",
   "execution_count": 247,
   "metadata": {},
   "outputs": [
    {
     "data": {
      "text/plain": [
       "3.703837105285023e-05"
      ]
     },
     "execution_count": 247,
     "metadata": {},
     "output_type": "execute_result"
    }
   ],
   "source": [
    "m"
   ]
  },
  {
   "cell_type": "code",
   "execution_count": 248,
   "metadata": {},
   "outputs": [
    {
     "data": {
      "text/plain": [
       "0.7903321014280543"
      ]
     },
     "execution_count": 248,
     "metadata": {},
     "output_type": "execute_result"
    }
   ],
   "source": [
    "b"
   ]
  },
  {
   "cell_type": "code",
   "execution_count": 260,
   "metadata": {},
   "outputs": [
    {
     "data": {
      "image/png": "[encoded data removed]",
      "text/plain": [
       "<Figure size 720x432 with 1 Axes>"
      ]
     },
     "metadata": {
      "needs_background": "light"
     },
     "output_type": "display_data"
    }
   ],
   "source": [
    "import numpy\n",
    "df = pd.read_csv(\"results.csv\").groupby(['algo','taille']).mean().reset_index()\n",
    "backtrack = df.loc[df[\"algo\"] == \"backtrack\"]\n",
    "\n",
    "plt.figure(figsize=(10,6))\n",
    "t = 2**(numpy.log(backtrack[\"taille\"]))\n",
    "\n",
    "plt.gca().set_ylim(bottom=0)\n",
    "m,b = numpy.polyfit(t, backtrack[\"temps\"], 1)\n",
    "plt.xlabel(\"Taille\")\n",
    "plt.ylabel(\"(x, y/O(2^x))\")\n",
    "plt.title(\"Test du rapport pour l'algorithme backtrack\")\n",
    "\n",
    "#plt.scatter(dynamique[\"taille\"], dynamique[\"temps\"])\n",
    "plt.plot(backtrack[\"taille\"], backtrack[\"temps\"]/t)\n",
    "plt.savefig(\"glouton-rapport\")"
   ]
  },
  {
   "cell_type": "code",
   "execution_count": null,
   "metadata": {},
   "outputs": [],
   "source": []
  }
 ],
 "metadata": {
  "kernelspec": {
   "display_name": "Python 3",
   "language": "python",
   "name": "python3"
  },
  "language_info": {
   "codemirror_mode": {
    "name": "ipython",
    "version": 3
   },
   "file_extension": ".py",
   "mimetype": "text/x-python",
   "name": "python",
   "nbconvert_exporter": "python",
   "pygments_lexer": "ipython3",
   "version": "3.7.4"
  }
 },
 "nbformat": 4,
 "nbformat_minor": 2
}
